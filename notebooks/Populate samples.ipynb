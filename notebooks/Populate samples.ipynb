{
 "cells": [
  {
   "cell_type": "code",
   "execution_count": 1,
   "metadata": {},
   "outputs": [],
   "source": [
    "%load_ext autoreload\n",
    "%autoreload 2\n",
    "%matplotlib inline"
   ]
  },
  {
   "cell_type": "code",
   "execution_count": 2,
   "metadata": {},
   "outputs": [],
   "source": [
    "from IPython.display import display, HTML\n",
    "from met_explore.models import *\n",
    "from met_explore.serializers import *\n",
    "from  met_explore.population_scripts import *\n",
    "import pandas as pd\n",
    "from collections import OrderedDict\n",
    "import os\n",
    "import csv\n",
    "import numpy as np\n"
   ]
  },
  {
   "cell_type": "markdown",
   "metadata": {},
   "source": [
    "### This script populates the sample objects from the tissues_life_stages_v2.csv file."
   ]
  },
  {
   "cell_type": "code",
   "execution_count": 3,
   "metadata": {},
   "outputs": [
    {
     "name": "stdout",
     "output_type": "stream",
     "text": [
      "<class 'numpy.ndarray'>\n",
      "['sak_a_1.mzXML ' 'Whole_f' 'F' 'Whole' 'NULL']\n",
      "['sak_a_2.mzXML ' 'Whole_f' 'F' 'Whole' 'NULL']\n",
      "['sak_a_3.mzXML ' 'Whole_f' 'F' 'Whole' 'NULL']\n",
      "['sak_a_4.mzXML ' 'Whole_f' 'F' 'Whole' 'NULL']\n",
      "['sak_b_1.mzXML ' 'Whole_m' 'M' 'Whole' 'NULL']\n",
      "['sak_b_2.mzXML ' 'Whole_m' 'M' 'Whole' 'NULL']\n",
      "['sak_b_3.mzXML ' 'Whole_m' 'M' 'Whole' 'NULL']\n",
      "['sak_b_4.mzXML ' 'Whole_m' 'M' 'Whole' 'NULL']\n",
      "['sak_c_1.mzXML ' 'Head_f' 'F' 'Head' 'NULL']\n",
      "['sak_c_2.mzXML ' 'Head_f' 'F' 'Head' 'NULL']\n",
      "['sak_c_3.mzXML ' 'Head_f' 'F' 'Head' 'NULL']\n",
      "['sak_c_4.mzXML ' 'Head_f' 'F' 'Head' 'NULL']\n",
      "['sak_e_1.mzXML ' 'Mid_f' 'F' 'Midgut' 'NULL']\n",
      "['sak_e_2.mzXML ' 'Mid_f' 'F' 'Midgut' 'NULL']\n",
      "['sak_e_3.mzXML ' 'Mid_f' 'F' 'Midgut' 'NULL']\n",
      "['sak_e_4.mzXML ' 'Mid_f' 'F' 'Midgut' 'NULL']\n",
      "['sak_f_1.mzXML ' 'Mid_m' 'M' 'Midgut' 'NULL']\n",
      "['sak_f_2.mzXML ' 'Mid_m' 'M' 'Midgut' 'NULL']\n",
      "['sak_f_3.mzXML ' 'Mid_m' 'M' 'Midgut' 'NULL']\n",
      "['sak_f_4.mzXML ' 'Mid_m' 'M' 'Midgut' 'NULL']\n",
      "['sak_g_1.mzXML ' 'Ovary_f' 'F' 'Ovaries' 'NULL']\n",
      "['sak_g_2.mzXML ' 'Ovary_f' 'F' 'Ovaries' 'NULL']\n",
      "['sak_g_3.mzXML ' 'Ovary_f' 'F' 'Ovaries' 'NULL']\n",
      "['sak_g_4.mzXML ' 'Ovary_f' 'F' 'Ovaries' 'NULL']\n",
      "['sak_h_1.mzXML ' 'Testes_m' 'M' 'Testes' 'NULL']\n",
      "['sak_h_2.mzXML ' 'Testes_m' 'M' 'Testes' 'NULL']\n",
      "['sak_h_3.mzXML ' 'Testes_m' 'M' 'Testes' 'NULL']\n",
      "['sak_h_4.mzXML ' 'Testes_m' 'M' 'Testes' 'NULL']\n",
      "['sak_d_1.mzXML ' 'Head_m' 'M' 'Head' 'NULL']\n",
      "['sak_d_2.mzXML ' 'Head_m' 'M' 'Head' 'NULL']\n",
      "['sak_d_3.mzXML ' 'Head_m' 'M' 'Head' 'NULL']\n",
      "['sak_d_4.mzXML ' 'Head_m' 'M' 'Head' 'NULL']\n",
      "['sak_i_1.mzXML ' 'Whole_standard' 'Mixed' 'Mixed' 'NULL']\n",
      "['sak_i_2.mzXML ' 'Whole_standard' 'Mixed' 'Mixed' 'NULL']\n",
      "['sak_i_3.mzXML ' 'Whole_standard' 'Mixed' 'Mixed' 'NULL']\n"
     ]
    }
   ],
   "source": [
    "sample_details = np.genfromtxt('tissues_life_stages_v2.csv', delimiter=',', dtype=str)[2:]\n",
    "print (type(sample_details))\n",
    "for s in sample_details:\n",
    "    print (s)\n"
   ]
  },
  {
   "cell_type": "code",
   "execution_count": 4,
   "metadata": {},
   "outputs": [],
   "source": [
    "# This requires the input as name, group, life_stage, tissue & mutant\n",
    "# It requires all sample names to be unique and reports any errors (throw?)\n",
    "def populate_sample(sample_details):\n",
    "    for sample in sample_details:\n",
    "        print (sample)\n",
    "        sample_serializer = SampleSerializer(data={\"name\":sample[0], \"group\":sample[1] , \"life_stage\":sample[2],\"tissue\":sample[3],\"mutant\":sample[4]})\n",
    "        if sample_serializer.is_valid():\n",
    "            db_sample = sample_serializer.save()\n",
    "            print (\"sample saved \", db_sample.name)\n",
    "        else:\n",
    "            print (sample_serializer.errors)\n",
    "        \n"
   ]
  },
  {
   "cell_type": "code",
   "execution_count": null,
   "metadata": {},
   "outputs": [],
   "source": []
  },
  {
   "cell_type": "code",
   "execution_count": 5,
   "metadata": {},
   "outputs": [],
   "source": [
    "populate_samples('tissues_life_stages_v2.csv')"
   ]
  },
  {
   "cell_type": "code",
   "execution_count": 6,
   "metadata": {},
   "outputs": [],
   "source": [
    "samples = Sample.objects.all()"
   ]
  },
  {
   "cell_type": "code",
   "execution_count": 7,
   "metadata": {},
   "outputs": [
    {
     "name": "stdout",
     "output_type": "stream",
     "text": [
      "Sample sak_a_1.mzXML\n",
      "Sample sak_a_2.mzXML\n",
      "Sample sak_a_3.mzXML\n",
      "Sample sak_a_4.mzXML\n",
      "Sample sak_b_1.mzXML\n",
      "Sample sak_b_2.mzXML\n",
      "Sample sak_b_3.mzXML\n",
      "Sample sak_b_4.mzXML\n",
      "Sample sak_c_1.mzXML\n",
      "Sample sak_c_2.mzXML\n",
      "Sample sak_c_3.mzXML\n",
      "Sample sak_c_4.mzXML\n",
      "Sample sak_e_1.mzXML\n",
      "Sample sak_e_2.mzXML\n",
      "Sample sak_e_3.mzXML\n",
      "Sample sak_e_4.mzXML\n",
      "Sample sak_f_1.mzXML\n",
      "Sample sak_f_2.mzXML\n",
      "Sample sak_f_3.mzXML\n",
      "Sample sak_f_4.mzXML\n",
      "Sample sak_g_1.mzXML\n",
      "Sample sak_g_2.mzXML\n",
      "Sample sak_g_3.mzXML\n",
      "Sample sak_g_4.mzXML\n",
      "Sample sak_h_1.mzXML\n",
      "Sample sak_h_2.mzXML\n",
      "Sample sak_h_3.mzXML\n",
      "Sample sak_h_4.mzXML\n",
      "Sample sak_d_1.mzXML\n",
      "Sample sak_d_2.mzXML\n",
      "Sample sak_d_3.mzXML\n",
      "Sample sak_d_4.mzXML\n",
      "Sample sak_i_1.mzXML\n",
      "Sample sak_i_2.mzXML\n",
      "Sample sak_i_3.mzXML\n"
     ]
    }
   ],
   "source": [
    "for s in samples:\n",
    "    print (s)"
   ]
  },
  {
   "cell_type": "code",
   "execution_count": null,
   "metadata": {},
   "outputs": [],
   "source": [
    "populate_samples(sample_details)"
   ]
  },
  {
   "cell_type": "code",
   "execution_count": null,
   "metadata": {},
   "outputs": [],
   "source": []
  }
 ],
 "metadata": {
  "kernelspec": {
   "display_name": "Django Shell-Plus",
   "language": "python",
   "name": "django_extensions"
  },
  "language_info": {
   "codemirror_mode": {
    "name": "ipython",
    "version": 3
   },
   "file_extension": ".py",
   "mimetype": "text/x-python",
   "name": "python",
   "nbconvert_exporter": "python",
   "pygments_lexer": "ipython3",
   "version": "3.7.0"
  }
 },
 "nbformat": 4,
 "nbformat_minor": 2
}
